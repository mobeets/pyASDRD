{
 "metadata": {
  "name": "",
  "signature": "sha256:da42490cdf346bde959bf4347aa7e89b23fa1ff78bd8768f6452c9c04e162103"
 },
 "nbformat": 3,
 "nbformat_minor": 0,
 "worksheets": [
  {
   "cells": [
    {
     "cell_type": "code",
     "collapsed": false,
     "input": [
      "%matplotlib inline\n",
      "from matplotlib import rcParams\n",
      "rcParams['lines.linewidth'] = 2"
     ],
     "language": "python",
     "metadata": {},
     "outputs": [],
     "prompt_number": 1
    },
    {
     "cell_type": "code",
     "collapsed": false,
     "input": [
      "import reg\n",
      "import stim\n",
      "import resp\n",
      "import plot\n",
      "reload(reg)\n",
      "reload(stim)\n",
      "reload(resp)\n",
      "reload(plot)"
     ],
     "language": "python",
     "metadata": {},
     "outputs": [
      {
       "metadata": {},
       "output_type": "pyout",
       "prompt_number": 63,
       "text": [
        "<module 'plot' from 'plot.pyc'>"
       ]
      }
     ],
     "prompt_number": 63
    },
    {
     "cell_type": "code",
     "collapsed": false,
     "input": [
      "n = 500\n",
      "ns, nt = 7, 25\n",
      "s = stim.Stim(n, ns, nt)\n",
      "r = resp.Resp(s, signalType='rank-2')\n",
      "plot.plotFull(s.xy, r.wf)"
     ],
     "language": "python",
     "metadata": {},
     "outputs": [
      {
       "metadata": {},
       "output_type": "display_data",
       "png": "[encoded data removed]",
       "text": [
        "<matplotlib.figure.Figure at 0x10720e210>"
       ]
      }
     ],
     "prompt_number": 20
    },
    {
     "cell_type": "code",
     "collapsed": false,
     "input": [
      "trainPct = 0.8\n",
      "(Xf0, Y0), (Xf1, Y1) = reg.trainAndTest(s.Xf, r.Y, trainPct=trainPct)\n",
      "\n",
      "fitters = {'ols': reg.OLS, 'ARD': reg.ARD, 'ridge': reg.Ridge, 'lasso': reg.Lasso}\n",
      "\n",
      "# init\n",
      "fs = {}\n",
      "for key, fcn in fitters.iteritems():\n",
      "    fs[key] = fcn((Xf0, Y0), (Xf1, Y1))\n",
      "\n",
      "# train\n",
      "for key, obj in fs.iteritems():\n",
      "    obj.fit()\n",
      "\n",
      "# test\n",
      "for key, obj in fs.iteritems():\n",
      "    obj.predict()\n",
      "    obj.score()\n",
      "    print '{0} rmse = {1}'.format(key, obj.rsq)\n"
     ],
     "language": "python",
     "metadata": {},
     "outputs": [
      {
       "output_type": "stream",
       "stream": "stdout",
       "text": [
        "ARD rmse = -0.345254328855\n",
        "ols rmse = -1.13680562537\n",
        "ridge rmse = -0.0436740400323\n",
        "lasso rmse = -0.00356268273053\n"
       ]
      }
     ],
     "prompt_number": 64
    },
    {
     "cell_type": "code",
     "collapsed": false,
     "input": [],
     "language": "python",
     "metadata": {},
     "outputs": []
    }
   ],
   "metadata": {}
  }
 ]
}