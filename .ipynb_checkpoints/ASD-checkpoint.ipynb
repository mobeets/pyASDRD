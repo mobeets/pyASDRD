{
 "metadata": {
  "name": "",
  "signature": "sha256:307718095b0f5a9ae283286d28a207158cae4e59bcad8f2f3f24deffc438a7ca"
 },
 "nbformat": 3,
 "nbformat_minor": 0,
 "worksheets": []
}